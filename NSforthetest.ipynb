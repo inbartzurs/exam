{
 "cells": [
  {
   "cell_type": "code",
   "execution_count": 3,
   "metadata": {},
   "outputs": [],
   "source": [
    "import numpy as np\n",
    "import pandas as pd\n",
    "import numpy as np\n",
    "import seaborn as sns\n",
    "import sklearn as sk\n",
    "import matplotlib.pyplot as plt\n",
    "from sklearn import tree\n",
    "from sklearn.tree import DecisionTreeClassifier\n",
    "from sklearn.svm import SVC\n"
   ]
  },
  {
   "cell_type": "markdown",
   "metadata": {},
   "source": [
    "שיעור 1"
   ]
  },
  {
   "cell_type": "code",
   "execution_count": 5,
   "metadata": {},
   "outputs": [
    {
     "data": {
      "text/html": [
       "<div>\n",
       "<style scoped>\n",
       "    .dataframe tbody tr th:only-of-type {\n",
       "        vertical-align: middle;\n",
       "    }\n",
       "\n",
       "    .dataframe tbody tr th {\n",
       "        vertical-align: top;\n",
       "    }\n",
       "\n",
       "    .dataframe thead th {\n",
       "        text-align: right;\n",
       "    }\n",
       "</style>\n",
       "<table border=\"1\" class=\"dataframe\">\n",
       "  <thead>\n",
       "    <tr style=\"text-align: right;\">\n",
       "      <th></th>\n",
       "      <th>a</th>\n",
       "      <th>b</th>\n",
       "    </tr>\n",
       "  </thead>\n",
       "  <tbody>\n",
       "    <tr>\n",
       "      <th>0</th>\n",
       "      <td>2</td>\n",
       "      <td>1</td>\n",
       "    </tr>\n",
       "    <tr>\n",
       "      <th>1</th>\n",
       "      <td>4</td>\n",
       "      <td>3</td>\n",
       "    </tr>\n",
       "    <tr>\n",
       "      <th>2</th>\n",
       "      <td>6</td>\n",
       "      <td>5</td>\n",
       "    </tr>\n",
       "    <tr>\n",
       "      <th>3</th>\n",
       "      <td>8</td>\n",
       "      <td>7</td>\n",
       "    </tr>\n",
       "  </tbody>\n",
       "</table>\n",
       "</div>"
      ],
      "text/plain": [
       "   a  b\n",
       "0  2  1\n",
       "1  4  3\n",
       "2  6  5\n",
       "3  8  7"
      ]
     },
     "execution_count": 5,
     "metadata": {},
     "output_type": "execute_result"
    }
   ],
   "source": [
    "# יצירת DATAFRAMEbool\n",
    "df=pd.DataFrame({'a': [2, 4, 6, 8], 'b': [1, 3, 5, 7]})\n",
    "df"
   ]
  },
  {
   "cell_type": "code",
   "execution_count": 6,
   "metadata": {},
   "outputs": [],
   "source": [
    "# קריאת קובץ כדאתא פריים\n",
    "# data = pd.read_csv('titanic_short.csv')\n",
    "\n"
   ]
  },
  {
   "cell_type": "code",
   "execution_count": null,
   "metadata": {},
   "outputs": [],
   "source": [
    "תרגול ראשון"
   ]
  },
  {
   "cell_type": "code",
   "execution_count": null,
   "metadata": {},
   "outputs": [],
   "source": [
    "# הצגת כל הדאתא כאשר רוצים שאחת העומודות תהיה שווה משהו ספציפי\n",
    "# data[data['עמודה'] == הגדרת תנאי למה אנחנו רוצים שהעמודה תהיה שווה לדוגמא 1  ]\n",
    "#  מחזיר TRUE/FALSE האם אותה עמודה שווה לערך הנבחר \n",
    "# כדי להגדיר עמודה מסויים עם ערך קבוע מסויים data.ערך נבחר = עמודה נבחרת \n",
    "# data[(data['survived'] == 1) & (data['sex']=='female')] דוגמא לבחירת 2 עמודות עם תנאים חשוב לסדר לפי הסידור הזה ועדיף להגדיר משתנה חדש \n",
    "# סליסינג משורה אחת עד שורה אחרונה לא כולל\n",
    "# data[1:10]\n",
    "\n"
   ]
  },
  {
   "cell_type": "code",
   "execution_count": 7,
   "metadata": {},
   "outputs": [],
   "source": [
    "# בחירת עמודות ספציפחיות שיופיעו בדטה פריים ולא כטבלה \n",
    "# data[[ 'עמודה רצויה ','עמודה רצויה ']] "
   ]
  },
  {
   "cell_type": "code",
   "execution_count": null,
   "metadata": {},
   "outputs": [],
   "source": [
    "# בניית מטריצה \n",
    "# arr = np.array([1, 2, 3, 4, 5]) \n"
   ]
  },
  {
   "cell_type": "markdown",
   "metadata": {},
   "source": [
    "שיעור 2"
   ]
  },
  {
   "cell_type": "code",
   "execution_count": null,
   "metadata": {},
   "outputs": [],
   "source": [
    "\n",
    "# מאיזה סוג הערכים של העמודות \n",
    "# pd.DataFrame(.dtypes)"
   ]
  },
  {
   "cell_type": "code",
   "execution_count": null,
   "metadata": {},
   "outputs": [],
   "source": [
    "# כמות השורות ואז העמודות \n",
    "# data.shape\n",
    "# כל שמות העמודות\n",
    "# data.info() נותן את המידע על הדאתא לפי הסוג עמודה ומספר הערכים החסרים \n",
    "# data.columns\n",
    "# data.head()\n",
    "# data.tail()\n",
    "# data.describe() הצגת מידע סטיסטי על עמודות מספריות"
   ]
  },
  {
   "cell_type": "code",
   "execution_count": null,
   "metadata": {},
   "outputs": [],
   "source": [
    "# בנית LIST בניית DICT נמצא בשיעור 2"
   ]
  },
  {
   "cell_type": "code",
   "execution_count": null,
   "metadata": {},
   "outputs": [],
   "source": [
    "# # הצגת עמודה ספציפית בDATA\n",
    "# # data.שם עמודה \n",
    "# # data['שם עמודה']\n",
    "# # אם רוצים בDATAFRAM \n",
    "# # data[['שם עמודה','שם עמודה']]\n",
    "# עמודות ספציפיות להצגה עושים לפי מה שכתוב למעלה\n"
   ]
  },
  {
   "cell_type": "code",
   "execution_count": null,
   "metadata": {},
   "outputs": [],
   "source": [
    "# הצגת תוכן של שורה ספציפי עם עמודה ספציפית\n",
    "# data.שם העמודה שרוצים[number of line]"
   ]
  },
  {
   "cell_type": "code",
   "execution_count": null,
   "metadata": {},
   "outputs": [],
   "source": [
    "\n",
    "# `.iloc` - selects subsets of rows and columns by integer location only\n",
    "# [מעמודה:עד עמודה-1,משורה עד שורה -1 ]\n",
    "# vacc_df.iloc[0:5] # first five rows of dataframe from 0 to 4 not include 5\n",
    "# vacc_df.iloc[:, 0:2] # first two columns of data frame with all rows\n",
    "# vacc_df.iloc[[0,3,6,24], [0,5,6]] # 1st, 4th, 7th, 25th row + 1st 6th 7th columns."
   ]
  },
  {
   "cell_type": "code",
   "execution_count": 8,
   "metadata": {},
   "outputs": [],
   "source": [
    "# # `.loc` - selects subsets of rows and columns by label only. Allowed inputs are:\n",
    "# # DATA.loc[0:3,['שם עמודה ','שם עמודה']]  משורה עד שורה כולל\n",
    "# # מחזיר את כל השורות בעמודה המבוקשת ומחזיר אם הערך הוא אמת או שקר לפי מה שביקשנו \n",
    "# # vacc_df.loc[:,'location'] == 'Israel'] מאפשר לי תנאי לפי שם שאני כבר יודע שהוא קיים שהדאטא יהיה לפי השם הספציפי מהעמודה שאני רוצה\n",
    "# # pd.DataFrame(vacc_df.location=='Israel')\n",
    "# # מחזיר את כל השורות שבהן העמודה שווה לערך שביקשנו בתוכה \n",
    "# # vacc_df[vacc_df.loc[:,'location'] == 'Israel']\n",
    "# # vacc_df[vacc_df.location=='Israel']\n",
    "# # או או\n",
    "# # two_countries = vacc_df.loc[(vacc_df.location == 'Israel') | (vacc_df.location == 'Denmark')] ה\n",
    "# קו האמצעי מאפשר לעשות אותו דבר גם לתנאי שני ואז להציג 2 מדינות\n",
    "# # two_countries.count()"
   ]
  },
  {
   "cell_type": "code",
   "execution_count": null,
   "metadata": {},
   "outputs": [],
   "source": [
    "# # .index.values() - the row indexes of this part of the dataframes\n",
    "# # vacc_df[vacc_df['location'].str.contains('World')] - selects rows and columns that contain a string\n",
    "# # vacc_df[vacc_df['location'].str.startswith('N')].copy()- מחזיר את כל השורות בהן הערך בעמודה המבוקשת מתחיל באות המבוקשת \n",
    "# vacc_df_noWorld = vacc_df.loc[vacc_df.location != 'World'] משמש להעיף מספר שורות ספציפי לפי מה שכתוב בעמודה ספציפית\n",
    "# # .max() - maximum value\n",
    "# # vacc_df_noWorld.total_vaccinations.max()- דוגמה\n",
    "# # .mean() - average value\n",
    "# # .count() - the number of rows that contain a value\n",
    "# מציאת ערך מקסימלי והגדרת משתנה לפיו ואז להביא את השורה עם הערך הזה\n",
    "# max_vacc = vacc_df_noWorld.total_vaccinations.max() משתנה להגדרת האחר הנומרי הגבוה ביותר\n",
    "#vacc_df_noWorld.loc[vacc_df_noWorld.total_vaccinations == max_vacc] הגדרה לפי לוק של העמודה עם הערך הגבוה ביותר ואז יוציא לנו את השורה עם הערך הגבוה ביותר\n",
    "# vacc_df.loc[(vacc_df.location == 'Israel') & (vacc_df.date == '2021-02-06')] ב\n",
    "# חירה של שורה ספציפית להצגה לפי שני תנאים מעמודות שונות פעולת החיבור & עושה גם וגם\n",
    "# vacc_df_noWorld.loc[(vacc_df.daily_vaccinations > 300000)]\n",
    "# תנאי למציאת ערך מסויים שהוא יותר גדול יש לשים לב לסוגריים וללוק"
   ]
  },
  {
   "cell_type": "code",
   "execution_count": 9,
   "metadata": {},
   "outputs": [],
   "source": [
    "# Summary of the functions in this unit:\n",
    "# .index.values` - the row indexes of this part of the dataframes\n",
    "# .str.contains` - selects rows and columns that contain a string\n",
    "# .max` - maximum value\n",
    "# .mean` - average value\n",
    "# .count` - the number of rows that contain a value"
   ]
  },
  {
   "cell_type": "markdown",
   "metadata": {},
   "source": [
    "תרגול 2"
   ]
  },
  {
   "cell_type": "markdown",
   "metadata": {},
   "source": [
    "אם צריך מטריצות- נמצא בפנים"
   ]
  },
  {
   "cell_type": "markdown",
   "metadata": {},
   "source": [
    ":שיעור 3"
   ]
  },
  {
   "cell_type": "markdown",
   "metadata": {},
   "source": [
    "##### 1.Finding missing values"
   ]
  },
  {
   "cell_type": "code",
   "execution_count": null,
   "metadata": {},
   "outputs": [],
   "source": [
    "#for all data\n",
    "#data.isnull().sum().sort_values()-  סוכם את מספר השורות בהם קיימיים ערכים חסרים על כל הדאטה וממיין מהגדול לקטן\n",
    "# grouped_df.sort_values('people_fully_vaccinated_per_hundred', ascending = False).head(10)\n",
    "# ממיין את הדטה לפי שורה מסויימת מהגדול לקטן, אסנד הוא בהגדרה למיין מלמטה למעלה אם נשים פולס הוא ימיין מלמעלה למטה\n",
    "#for specific column\n",
    "#data['column'].isnull().sum() מציג את מספר הערכים החסרים בעמודה ספציפית\n",
    "# data['column'].notnull().sum() מציג את מספר הערכים הנמצאים בעמודה ספציפית\n",
    "# np.isnan(vacc_df['daily_vaccinations']).sum() מציג את מספר הערכים החסרים בעמודה רק לערכים נומריים כלומר רק מספרית"
   ]
  },
  {
   "cell_type": "code",
   "execution_count": null,
   "metadata": {},
   "outputs": [],
   "source": [
    "# data.isnull().sum() - סוכם את מספר השורות בהם קיימיים ערכים חסרים על כל הדאטה\n",
    "# data.notnull() - הצגת שורות שאינן מכילות ערכים חסרים\n",
    "# data.dropna() - הסרת שורות עם ערכים חסרים בהתאם לפרמטרים:\n",
    "#     .dropna() (default) -  nan מעיף שורות אם לפחות עמודה אחת כוללת  \n",
    "#     .dropna(subset = ['column_name']) - מעיף שורות המכילות ערכים חסרים בקבוצת המשנה של שמות עמודות כלומר של עמודות בניגוד לשורות\n",
    "# מאפשר גם להעיף וכמה עמודות בהוספת פסיק בין השמות עמודות\n",
    "#     .dropna(how='all') - drops rows only if all of its columns have NaNs מעיף שורה שלמה אם כל הערכים בכל העמודות שלה חסרים\n",
    "#     .dropna(thresh = k) - k how many non-null values you want to keep (k=3 means the row should contain at least 3 non-null values)\n",
    "#     .dropna(axis=1) - drop columns instead of rows"
   ]
  },
  {
   "cell_type": "code",
   "execution_count": null,
   "metadata": {},
   "outputs": [],
   "source": [
    "# Use .fillna() to fill missing dataframe values with:\n",
    "# מילוי ערך חסר עם 0:\n",
    "# vacc_df.fillna(0, inplace = False -הדיפולט-הוא שקר ולא שומר בקובץ את השינוי כלומר צריך להגדיר טרו)\n",
    "\n",
    "# Using median-חציון- חצי מהערכים גדולים ממנו וחצי מהערכים קטנים ממנו \n",
    "# vacc_df['daily_vaccinations'].fillna(vacc_df['daily_vaccinations'].median(), inplace=True) \n",
    "  \n",
    "# Using mean-ממוצע\n",
    "#vacc_df['daily_vaccinations'].fillna(vacc_df['daily_vaccinations'].mean(), inplace=True)\n",
    "\n",
    "# ממוצע הרמוני\n",
    "# from scipy import stats\n",
    "# stats.hmean(without_zero_and_nan.loc[:,'people_vaccinated_per_hundred'])\n",
    "\n",
    "  \n",
    "# Using mode- שכיח\n",
    "#vacc_df['daily_vaccinations'].fillna(vacc_df['daily_vaccinations'].mode(), inplace=True)\n",
    "\n",
    "# ffill- ממלא ערך חסר לפי הערך שלפניו\n",
    "# vacc_df[['total_vaccinations']].fillna(method='ffill')[52:62]\n",
    "\n",
    "# bfill- ממלא ערך חסר לפי הערך שאחריו\n",
    "# vacc_df[['total_vaccinations']].fillna(method='bfill')[0:10]\n",
    "\n",
    "# interpolate - fill using some interpolation technique\n",
    "# vacc_df['newTotal2'] = vacc_df['total_vaccinations'].interpolate(method ='linear') "
   ]
  },
  {
   "cell_type": "markdown",
   "metadata": {},
   "source": [
    "#### groupby"
   ]
  },
  {
   "cell_type": "code",
   "execution_count": null,
   "metadata": {},
   "outputs": [],
   "source": [
    "# data.groupby('column-לפי זה מקבצים')[['column1', 'column2'-על עמודות אלו מתבצעת הפעולה]].פקודה כלשהי()\n",
    "# vacc_df.groupby('location')[['daily_vaccinations', 'total_vaccinations']].mean()- דוגמה.\n",
    "# אם נדרשת פונקציית למדה- בקובץ של שיעור \n",
    "# youtubedata['year'] = pd.DatetimeIndex(youtubedata['publish_time']).year\n",
    "# yutpivot = youtubedata.pivot_table(\"views\",index='category_id',columns = \"year\", aggfunc='sum').copy()\n",
    "# yutpivot.groupby(\"category_id\")[[2017,2018]].sum()"
   ]
  },
  {
   "cell_type": "markdown",
   "metadata": {},
   "source": [
    "תרגול 3:\n",
    "\n",
    "מכיל דוגמאות על ערכים חסרים ומטריצות (עם רנדום)"
   ]
  },
  {
   "cell_type": "markdown",
   "metadata": {},
   "source": [
    "### שיעור 4"
   ]
  },
  {
   "cell_type": "markdown",
   "metadata": {},
   "source": [
    "##### מחיקת עמודה"
   ]
  },
  {
   "cell_type": "code",
   "execution_count": 6,
   "metadata": {},
   "outputs": [],
   "source": [
    "# disney_df = disney_df.drop('year', axis=1)"
   ]
  },
  {
   "cell_type": "markdown",
   "metadata": {},
   "source": [
    "##### מחיקת שורות"
   ]
  },
  {
   "cell_type": "code",
   "execution_count": null,
   "metadata": {},
   "outputs": [],
   "source": [
    "# vacc_df.drop(vacc_df.loc[vacc_df.location == 'World'].index, inplace = True)"
   ]
  },
  {
   "cell_type": "markdown",
   "metadata": {},
   "source": [
    "##### מיון ערכים בעמודה"
   ]
  },
  {
   "cell_type": "code",
   "execution_count": null,
   "metadata": {},
   "outputs": [],
   "source": [
    "# data.sort_values('column', ascending = True-מהקטן לגדול) False- מהגדול לקטן"
   ]
  },
  {
   "cell_type": "code",
   "execution_count": 7,
   "metadata": {},
   "outputs": [],
   "source": [
    "#df.std()- סטיית תקן"
   ]
  },
  {
   "cell_type": "markdown",
   "metadata": {},
   "source": [
    "תרגול 4:\n",
    "\n",
    "מכיל גם מידע על רנדום"
   ]
  },
  {
   "cell_type": "markdown",
   "metadata": {},
   "source": [
    "#### DATE"
   ]
  },
  {
   "cell_type": "code",
   "execution_count": null,
   "metadata": {},
   "outputs": [],
   "source": [
    "#from datetime import date\n",
    "# הפיכת הנתונים בעמודה לתאריך\n",
    "# covid_df['date'] = pd.to_datetime(covid_df.date)\n",
    "# יצירת עמודות חדשות של שנה, חודש, יום, שבוע\n",
    "# covid_df['year'] = ivod.DatetimeIndex(covid_df.date).year\n",
    "# covid_df['month'] = pd.DatetimeIndex(covid_df.date).month\n",
    "# covid_df['day'] = pd.DatetimeIndex(covid_df.date).day\n",
    "# covid_df['weekday'] = pd.DatetimeIndex(covid_df.date).weekday\n",
    "# דוגמה\n",
    "# covid_df_august = covid_df[covid_df.month == 8]"
   ]
  },
  {
   "cell_type": "code",
   "execution_count": null,
   "metadata": {},
   "outputs": [],
   "source": [
    "# בקובץ תרגול 4 מופיע גם איך להציג את התאריך של היום\n",
    "# בנוסף דוגמאות לסכימה של עמודות (סכום, ממוצע) "
   ]
  },
  {
   "cell_type": "markdown",
   "metadata": {},
   "source": [
    "### > Visualization"
   ]
  },
  {
   "cell_type": "markdown",
   "metadata": {},
   "source": [
    "### 1. plot- unit 4"
   ]
  },
  {
   "cell_type": "code",
   "execution_count": 10,
   "metadata": {},
   "outputs": [],
   "source": [
    "# data.plot() - simple line plot -קווים\n",
    "# gym['itzik'].plot()- פלוט על עמודה ספציפית בדאטה"
   ]
  },
  {
   "cell_type": "markdown",
   "metadata": {},
   "source": [
    "### 2. Histograms- unit 4"
   ]
  },
  {
   "cell_type": "code",
   "execution_count": null,
   "metadata": {},
   "outputs": [],
   "source": [
    "# data.hist(bins=?) - the data and the number of bins-נקבל מספר גרפים כמספר העמודות בדאטה\n",
    "\n",
    "# data.plot.hist(bins=?,alpha=?) - מקשף את ההיסטוגרמות אחת על השנייה אלפא מגדיר את רמת השקיפות"
   ]
  },
  {
   "cell_type": "code",
   "execution_count": 9,
   "metadata": {},
   "outputs": [],
   "source": [
    "# UNIT 6\n",
    "# data[columns].plot.density(subplots=True, sharex=False, sharey=False, layout=(3, 3), figsize=(12,14))- מציג גרף של צפיפות (במקום היסטוגרמה עם מלבנים- הייצוג יהיה בקו פונקציה)\n",
    "# subplots- מראה כמה גרפים שונים יחד אחד ליד השני\n",
    "# sharex- שומר על כל ערכי האיקס של כולם זהים"
   ]
  },
  {
   "cell_type": "markdown",
   "metadata": {},
   "source": [
    "### 3. Boxplots- unit 4"
   ]
  },
  {
   "cell_type": "code",
   "execution_count": 5,
   "metadata": {},
   "outputs": [],
   "source": [
    "# data.boxplot()-  על כל הדאטה \n",
    "# data.boxplot('column')  אם רוצים על עמודה ספציפית כותבים את השם שלה בסוגריים\n",
    "# df.boxplot(column=['C1', 'C2', 'C3'])-אם רוצים על מספר עמודות יחד\n",
    "# תוך המלבן הסגור יהיה הממוצע, הקו באמצע יהיה החציון, הקווים מעל ומתחת יראו את סטיית התקן, נקודות חריגות יופיעו מחוץ למלבן גם\n",
    "# data['column'].plot(kind='box', patch_artist=True); True- full, False- empty\n"
   ]
  },
  {
   "cell_type": "markdown",
   "metadata": {},
   "source": [
    "### 4. Scatterplots- unit 5"
   ]
  },
  {
   "cell_type": "code",
   "execution_count": null,
   "metadata": {},
   "outputs": [],
   "source": [
    "# גרף שמראה עלייה\\ ירידה של נתונים בין 2 עמודות, מתאים אחרי קרולציה לנתונים בדידים בדגש על בדידים !! מראה נקודות \n",
    "\n",
    "# .plot.scatter - plot a scatter plot\n",
    "# house_df.plot.scatter(x = 'total_bedrooms', y = 'households')- דוגמה\n",
    "\n",
    "# .plotting.scatter_matrix - draw a matrix of scatter plots. documentation- מראה מטריצה של סקאטר פלוט\n",
    "# דוגמה:\n",
    "# features = ['median_house_value', 'housing_median_age',\n",
    "#             'median_income']\n",
    "# pd.plotting.scatter_matrix(house_df[features])\n",
    "\n",
    "# Seaborn package:\n",
    "\n",
    "# sns.scatterplot - a scatter plot\n",
    "# sns.scatterplot(data=house_df, x='total_bedrooms', y='households')-דוגמה \n",
    "\n",
    "# עם קו רגרסיה\n",
    "\n",
    "# sns.regplot - a scatter plot with a regression line\n",
    "# sns.regplot(data=house_df, x='total_bedrooms', y='households')-דוגמה "
   ]
  },
  {
   "cell_type": "markdown",
   "metadata": {},
   "source": [
    "### 5. Heatmaps- unit 5"
   ]
  },
  {
   "cell_type": "code",
   "execution_count": null,
   "metadata": {},
   "outputs": [],
   "source": [
    "# sns.heatmap - a heatmap. @annot = True to print the values inside the square\n",
    "# דוגמה:\n",
    "#     features = ['median_house_value', 'housing_median_age','median_income','total_bedrooms','population']\n",
    "# correlation_matrix = house_df[features].corr().round(2)\n",
    "# sns.heatmap(data=correlation_matrix,cmap='Greens', annot=True)\n",
    "\n",
    "# features- על מה אני רוצה קורלציות\n",
    "# round(2)- מעגל בכמה ספרות אחרי הנקודה\n",
    "# cmap- פלטת צבעים\n",
    "# annot=True- עם מספרים בקוביות\n",
    "# annot=False= בלי מספרים בקוביות"
   ]
  },
  {
   "cell_type": "markdown",
   "metadata": {},
   "source": [
    "### 5. Regplot- unit 6"
   ]
  },
  {
   "cell_type": "code",
   "execution_count": null,
   "metadata": {},
   "outputs": [],
   "source": [
    "# sns.regplot(x='COLUMN1', y='COLUMN2', data=DATA);- מציג כמו סקאטרפלוט רק עם קו רגרסיה"
   ]
  },
  {
   "cell_type": "markdown",
   "metadata": {},
   "source": [
    "### 6. Countplot- unit 6"
   ]
  },
  {
   "cell_type": "code",
   "execution_count": null,
   "metadata": {},
   "outputs": [],
   "source": [
    "# sns.countplot(ax=axes[?], x=\"column\", data=DATA)- סופר את מספר הפעמים שהערך בתוך העמודה הופיע (יותר מתאים לאובזקט)\n",
    "# *לא סוכם את הערכים כמו SUM\n",
    "\n",
    "# sns.countplot(x=\"sex\", hue=\"class\",  data=titanic)"
   ]
  },
  {
   "cell_type": "markdown",
   "metadata": {},
   "source": [
    "### 7. Pie plot- unit 7"
   ]
  },
  {
   "cell_type": "code",
   "execution_count": null,
   "metadata": {},
   "outputs": [],
   "source": [
    "# data['column'].value_counts().plot.pie(autopct=\"%1.1f%%\")\n",
    "# מתאים לעמודות שהן קטגוריה/אובגקט"
   ]
  },
  {
   "cell_type": "markdown",
   "metadata": {},
   "source": [
    "### 8. Barplot- unit 9"
   ]
  },
  {
   "cell_type": "code",
   "execution_count": null,
   "metadata": {},
   "outputs": [],
   "source": [
    "# sns.barplot(x=\"column1\", y=\"column2\", hue=\"according to\",  data=titanic)- נותן גרף עם עמודות מלבניות עם קו מעליהן שהוא הסטייה\n",
    "# plt.show()\n",
    "\n",
    "# #hue- על פי מה מחלק את העמודות"
   ]
  },
  {
   "cell_type": "markdown",
   "metadata": {},
   "source": [
    "### 9. pairplot- unit 5"
   ]
  },
  {
   "cell_type": "code",
   "execution_count": null,
   "metadata": {},
   "outputs": [],
   "source": [
    "# sns.pairplot(house_df[features], height = 2.5) מופיעים גרפים לפי העמודות שהגדרנו בפיצ'ורס עם בר פל"
   ]
  },
  {
   "cell_type": "markdown",
   "metadata": {},
   "source": [
    "### שיעור 5"
   ]
  },
  {
   "cell_type": "markdown",
   "metadata": {},
   "source": [
    "# Correlations"
   ]
  },
  {
   "cell_type": "code",
   "execution_count": 12,
   "metadata": {},
   "outputs": [],
   "source": [
    "# .corr - compute pairwise correlation of columns, excluding NA/null values. documentation\n",
    "\n",
    "# .corr.style.background_gradient - change the background color. various options\n",
    "# דוגמה:\n",
    "# correlation_matrix = house_df[features].corr()\n",
    "# correlation_matrix.style.background_gradient(cmap='coolwarm')\n",
    "\n",
    "# #data.corr(method='pearson')\n",
    "# #data.corr(method='spearman')\n",
    "# #data.corr(method='kendall')\n",
    "\n",
    "# הערה: לשים לב אם יש עמודה של ת\"ז למחוק אותה כי המספרים שלה לא רלוונטיים לקורלציה"
   ]
  },
  {
   "cell_type": "markdown",
   "metadata": {},
   "source": [
    "### תרגול 5 \n",
    "מכיל פירוט של הנושאים הבאים:\n",
    "\n",
    "Plots\n",
    "\n",
    "Histograms\n",
    "\n",
    "BoxPlots\n",
    "\n",
    "בעיקר עיצוב ודוגמאות שונות (גם עם sin and cos)"
   ]
  },
  {
   "cell_type": "markdown",
   "metadata": {},
   "source": [
    "#### שיעור 6"
   ]
  },
  {
   "cell_type": "code",
   "execution_count": 13,
   "metadata": {},
   "outputs": [],
   "source": [
    "# replace:\n",
    "# data['column'] = data['column'].str.replace('במה רוצים להחליף', 'מה רוצים להחליף')- \n",
    "\n",
    "# mrkt_df['Income'] = mrkt_df['Income'].str.replace('$', '')- דוגנמה\n",
    "\n",
    "# transform Income column to a numerical- החלפת הערכים בעמודה למספריים\n",
    "# mrkt_df['Income'] = mrkt_df['Income'].str.replace(',', '').astype('float')\n",
    "\n",
    "# reset index:\n",
    "# data.reset_index(drop=True)\n",
    "\n",
    "#select only numeric columns בחירת עמוודות רק עם ערכים מספריים\n",
    "# df_to_plot = df_to_plot.select_dtypes(include=np.number)\n",
    "\n",
    "# pd.set_option('mode.chained_assignment', None)\n",
    "# data_flt[['Feet','inch']] = data_flt.Height.str.split(\"-\",expand=True)\n",
    "# data_flt['Height(cm)'] = data_flt['Feet'].astype('float') * 30.48 + data_flt['inch'].astype('float')*2.54\n",
    "# data_flt.drop(['Feet','inch',\"Height\"], axis= 1, inplace=True)\n",
    "\n",
    "# data_flt[['Age','Height(cm)','Weight','Salary']].dropna().reset_index(drop=True).head(3)"
   ]
  },
  {
   "cell_type": "code",
   "execution_count": 14,
   "metadata": {},
   "outputs": [],
   "source": [
    "# pd.get_dummies(data['column'])- יוצר לכל סוג של אובגקט בעמודה עמודה משלו עם מספר בינארי 0 או 1   \n",
    "\n",
    "# create a pivot table to group and summarize data:\n",
    "\n",
    "# pd.pivot_table(data,index=['column'],values=['column1','column2','column3','column4'])\n",
    "# data.pivot_table('Response', index='Marital_Status', columns='Dependents', aggfunc='mean')  #aggfunc = 'mean' is the default     \n",
    "\n",
    "# בדוגמה:\n",
    "# 'Response'- העמודה עליה תתבצע הפעולה- והנתונים עליה יופיעו בתוך הטבלה\n",
    "# index='Marital_Status'- העמודה הראשונה\n",
    "# columns='Dependents'- הטורים במימד למעלה\n",
    "# aggfunc='mean'/'sum'/'mode'/'median' -הפעולה שתבוצע על העמודה המבוקשת\n",
    "# margins=True ברירת מחדל זה ללא אבל אם רוצים לסכום את הכל רושמים את מרגינס שווה אמת\n",
    "\n"
   ]
  },
  {
   "cell_type": "markdown",
   "metadata": {},
   "source": [
    "### תרגול 6"
   ]
  },
  {
   "cell_type": "code",
   "execution_count": null,
   "metadata": {},
   "outputs": [],
   "source": [
    "# new = pd.cut(data['column'], [0, 18, 80])- חותך את הערכים בעמודה המבוקשת לפי המספרים המבוקשים"
   ]
  },
  {
   "cell_type": "markdown",
   "metadata": {},
   "source": [
    "## עצים- TREES"
   ]
  },
  {
   "cell_type": "markdown",
   "metadata": {},
   "source": [
    "### 1. Build a classification model/Tree-   מודל קלאספייר- מנבא קלאס -UNIT 7"
   ]
  },
  {
   "cell_type": "markdown",
   "metadata": {},
   "source": [
    "### 1.1. Define the model: הגדרת המודל"
   ]
  },
  {
   "cell_type": "code",
   "execution_count": 15,
   "metadata": {},
   "outputs": [],
   "source": [
    "model1 = sk.tree.DecisionTreeClassifier(criterion=\"gini\")"
   ]
  },
  {
   "cell_type": "markdown",
   "metadata": {},
   "source": [
    "#### דרך לשיפור המודל ע\"י עומק מקסימלי:"
   ]
  },
  {
   "cell_type": "code",
   "execution_count": null,
   "metadata": {},
   "outputs": [],
   "source": [
    "model = sk.tree.DecisionTreeClassifier(criterion=\"gini\", max_depth=max_depth, random_state=0)"
   ]
  },
  {
   "cell_type": "code",
   "execution_count": null,
   "metadata": {},
   "outputs": [],
   "source": [
    "features = ['sepal_length', 'sepal_width', 'petal_length', 'petal_width']- מגדירים את הפיצרים לפי העמודות שאנחנו רוצים\n",
    "X = iris_df[features]\n",
    "y = iris_df['class']- העמודה אותה רוצים לנבא"
   ]
  },
  {
   "cell_type": "code",
   "execution_count": null,
   "metadata": {},
   "outputs": [],
   "source": [
    "X_train, X_test, y_train, y_test = sk.model_selection.train_test_split(X, y, test_size=0.3, random_state=1) -מחלקים את הדאטה ל 30-70"
   ]
  },
  {
   "cell_type": "markdown",
   "metadata": {},
   "source": [
    "### 1.2. Fit the model on the data: אימון המודל"
   ]
  },
  {
   "cell_type": "code",
   "execution_count": null,
   "metadata": {},
   "outputs": [],
   "source": [
    "model1.fit(X_train,y_train)"
   ]
  },
  {
   "cell_type": "markdown",
   "metadata": {},
   "source": [
    "### 1.3. Predict- חיזוי"
   ]
  },
  {
   "cell_type": "code",
   "execution_count": null,
   "metadata": {},
   "outputs": [],
   "source": [
    "prediction = model1.predict(X_test)\n",
    "prediction "
   ]
  },
  {
   "cell_type": "markdown",
   "metadata": {},
   "source": [
    "### 1.4. Evaluate-הערכה של המודל- כמה הוא אמין"
   ]
  },
  {
   "cell_type": "code",
   "execution_count": null,
   "metadata": {},
   "outputs": [],
   "source": [
    "sk.metrics.accuracy_score(prediction2, y_test)- נותן דיוק של המודל בין 0-1, נשתמש בדיוק זה רק כאשר מדובר על חיזוי קלאס שהוא בדיד"
   ]
  },
  {
   "cell_type": "code",
   "execution_count": null,
   "metadata": {},
   "outputs": [],
   "source": [
    "sk.metrics.plot_confusion_matrix(model2, X_test, y_test, cmap=plt.cm.Blues)- מטריצה של הממצאים- היכן המודל צדק והיכן טעה"
   ]
  },
  {
   "cell_type": "markdown",
   "metadata": {},
   "source": [
    "### 2. SVM model - linear classification- UNIT 8"
   ]
  },
  {
   "cell_type": "code",
   "execution_count": null,
   "metadata": {},
   "outputs": [],
   "source": [
    "features = ['sepal_length', 'sepal_width', 'petal_length', 'petal_width']\n",
    "X = iris_df[features]\n",
    "y = iris_df['class']\n",
    "X_train, X_test, y_train, y_test = sk.model_selection.train_test_split(X, y, test_size=0.3, random_state=1) \n",
    "\n",
    "from sklearn.svm import SVC\n",
    "svm_model = SVC(random_state = 0)\n",
    "svm_model.fit(X_train, y_train)\n",
    "svm_pred = svm_model.predict(X_test)\n",
    "sk.metrics.accuracy_score(svm_pred, y_test)\n",
    "\n",
    "#מודל זה מנבא טוב יותר בדר\"כ"
   ]
  },
  {
   "cell_type": "markdown",
   "metadata": {},
   "source": [
    "### Decision Tree and basic predictions- תרגול 7-  ניבוי ערכים רציפים(כמו משכורת וכו')"
   ]
  },
  {
   "cell_type": "markdown",
   "metadata": {},
   "source": [
    "### 1. Define the model: הגדרת המודל"
   ]
  },
  {
   "cell_type": "code",
   "execution_count": null,
   "metadata": {},
   "outputs": [],
   "source": [
    "model = DecisionTreeRegressor(random_state=4)"
   ]
  },
  {
   "cell_type": "code",
   "execution_count": null,
   "metadata": {},
   "outputs": [],
   "source": [
    "features = ['Rooms', 'Bathroom', 'Landsize', 'Lattitude', 'Longtitude']\n",
    "X = data[features]\n",
    "y = data['Price']"
   ]
  },
  {
   "cell_type": "code",
   "execution_count": null,
   "metadata": {},
   "outputs": [],
   "source": [
    "X_train, X_test, y_train, y_test = sk.model_selection.train_test_split(X, y, test_size=0.3, random_state=42) "
   ]
  },
  {
   "cell_type": "markdown",
   "metadata": {},
   "source": [
    "### 2. Fit the model on the data: אימון המודל"
   ]
  },
  {
   "cell_type": "code",
   "execution_count": null,
   "metadata": {},
   "outputs": [],
   "source": [
    "model.fit(X_train, y_train)"
   ]
  },
  {
   "cell_type": "markdown",
   "metadata": {},
   "source": [
    "### 3. Predict- חיזוי"
   ]
  },
  {
   "cell_type": "code",
   "execution_count": null,
   "metadata": {},
   "outputs": [],
   "source": [
    "pred = model.predict(X_test)"
   ]
  },
  {
   "cell_type": "markdown",
   "metadata": {},
   "source": [
    "### 4. Evaluate-הערכה של המודל- כמה הוא אמין"
   ]
  },
  {
   "cell_type": "code",
   "execution_count": null,
   "metadata": {},
   "outputs": [],
   "source": [
    "def mse(a,b):\n",
    "    return np.sqrt(np.square(a-b).mean())"
   ]
  },
  {
   "cell_type": "code",
   "execution_count": null,
   "metadata": {},
   "outputs": [],
   "source": [
    "mse(y_test.values,pred)\n",
    "# MSE is the mean square error, a measure for data validation"
   ]
  },
  {
   "cell_type": "markdown",
   "metadata": {},
   "source": [
    "###  דרכים לשיפור המודל- UNIT 8"
   ]
  },
  {
   "cell_type": "markdown",
   "metadata": {},
   "source": [
    "#### מודל -Classifier:"
   ]
  },
  {
   "cell_type": "code",
   "execution_count": null,
   "metadata": {},
   "outputs": [],
   "source": [
    "random forest:\n",
    "    \n",
    "from sklearn.ensemble import RandomForestClassifier\n",
    "\n",
    "rf = RandomForestClassifier(max_depth=9, random_state=0, criterion=\"gini\")\n",
    "rf.fit(X_train, y_train)\n",
    "predrf = rf.predict(X_test)\n",
    "acc = sk.metrics.accuracy_score(predrf, y_test)\n",
    "acc"
   ]
  },
  {
   "cell_type": "markdown",
   "metadata": {},
   "source": [
    "#### Feature importance- חשיבות הפיצרים- UNIT 8"
   ]
  },
  {
   "cell_type": "code",
   "execution_count": null,
   "metadata": {},
   "outputs": [],
   "source": [
    "dt.feature_importances_"
   ]
  },
  {
   "cell_type": "code",
   "execution_count": null,
   "metadata": {},
   "outputs": [],
   "source": [
    "feature_importances = pd.DataFrame(dt.feature_importances_,\n",
    "                                   index = iris_df.columns[:4],\n",
    "                                    columns=['importance']).sort_values('importance',\n",
    "                                                                        ascending=False)\n",
    "feature_importances.head()"
   ]
  },
  {
   "cell_type": "markdown",
   "metadata": {},
   "source": [
    "### תרגול 8:"
   ]
  },
  {
   "cell_type": "code",
   "execution_count": null,
   "metadata": {},
   "outputs": [],
   "source": [
    "data['column'] = data['column'].astype('category').cat.codes- הופך מספרים"
   ]
  },
  {
   "cell_type": "markdown",
   "metadata": {},
   "source": [
    "בנוסף יש פירוט נוסף של דברים שקשורים לעץ"
   ]
  },
  {
   "cell_type": "code",
   "execution_count": null,
   "metadata": {},
   "outputs": [],
   "source": [
    "# from IPython.display import display, HTML מזמנים את התיקייה של הדיספליי\n",
    "# display(x_train.head()) נותן לנו להציג שני גרפים במקביל ביחד\n",
    "# display(pd.DataFrame(y_test.head()))"
   ]
  }
 ],
 "metadata": {
  "kernelspec": {
   "display_name": "Python 3",
   "language": "python",
   "name": "python3"
  },
  "language_info": {
   "codemirror_mode": {
    "name": "ipython",
    "version": 3
   },
   "file_extension": ".py",
   "mimetype": "text/x-python",
   "name": "python",
   "nbconvert_exporter": "python",
   "pygments_lexer": "ipython3",
   "version": "3.8.5"
  }
 },
 "nbformat": 4,
 "nbformat_minor": 4
}
